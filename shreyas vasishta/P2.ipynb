{
 "cells": [
  {
   "cell_type": "code",
   "execution_count": 79,
   "id": "186e9819",
   "metadata": {},
   "outputs": [],
   "source": [
    "import numpy as nmp \n",
    "import matplotlib.pyplot as mpltl \n",
    "import pandas as pnd"
   ]
  },
  {
   "cell_type": "code",
   "execution_count": 90,
   "id": "b2e046ab",
   "metadata": {},
   "outputs": [],
   "source": [
    "DS = pnd.read_csv('Wine11.csv') \n",
    "# Now, we will distribute the dataset into two components \"X\" and \"Y\" \n",
    "X = DS.iloc[: , 0:12].values \n",
    "Y = DS.iloc[: , 13].values"
   ]
  },
  {
   "cell_type": "code",
   "execution_count": 91,
   "id": "d7635d89",
   "metadata": {},
   "outputs": [],
   "source": [
    "from sklearn.model_selection import train_test_split as tts \n",
    "X_train, X_test, Y_train, Y_test = tts(X, Y, test_size = 0.2, random_state = 0)"
   ]
  },
  {
   "cell_type": "code",
   "execution_count": 92,
   "id": "07128402",
   "metadata": {},
   "outputs": [],
   "source": [
    "from sklearn.preprocessing import StandardScaler as SS \n",
    "SC = SS() \n",
    " \n",
    "X_train = SC.fit_transform(X_train) \n",
    "X_test = SC.transform(X_test)"
   ]
  },
  {
   "cell_type": "code",
   "execution_count": 93,
   "id": "2535a93e",
   "metadata": {},
   "outputs": [],
   "source": [
    "from sklearn.decomposition import PCA \n",
    "PCa = PCA (n_components = 2) \n",
    "X_train = PCa.fit_transform(X_train) \n",
    "X_test = PCa.transform(X_test) \n",
    "explained_variance = PCa.explained_variance_ratio_"
   ]
  },
  {
   "cell_type": "code",
   "execution_count": 94,
   "id": "bbe4978c",
   "metadata": {},
   "outputs": [
    {
     "data": {
      "text/plain": [
       "LogisticRegression(random_state=0)"
      ]
     },
     "execution_count": 94,
     "metadata": {},
     "output_type": "execute_result"
    }
   ],
   "source": [
    "from sklearn.linear_model import LogisticRegression as LR \n",
    " \n",
    "classifier_1 = LR (random_state = 0) \n",
    "classifier_1.fit(X_train, Y_train)"
   ]
  },
  {
   "cell_type": "code",
   "execution_count": 95,
   "id": "7b6b3414",
   "metadata": {},
   "outputs": [],
   "source": [
    "Y_pred = classifier_1.predict(X_test)"
   ]
  },
  {
   "cell_type": "code",
   "execution_count": 96,
   "id": "df1b414f",
   "metadata": {},
   "outputs": [],
   "source": [
    "from sklearn.metrics import confusion_matrix as CM \n",
    "cm = CM (Y_test, Y_pred) "
   ]
  },
  {
   "cell_type": "code",
   "execution_count": 97,
   "id": "461c174b",
   "metadata": {},
   "outputs": [
    {
     "data": {
      "text/plain": [
       "array([1, 3, 2, 1, 2, 2, 1, 3, 2, 2, 3, 3, 1, 2, 3, 2, 1, 1, 2, 1, 2, 1,\n",
       "       1, 2, 2, 2, 2, 2, 2, 3, 1, 1, 2, 1, 1, 1], dtype=int64)"
      ]
     },
     "execution_count": 97,
     "metadata": {},
     "output_type": "execute_result"
    }
   ],
   "source": [
    "Y_test"
   ]
  },
  {
   "cell_type": "code",
   "execution_count": 98,
   "id": "d6f98a9a",
   "metadata": {},
   "outputs": [
    {
     "name": "stderr",
     "output_type": "stream",
     "text": [
      "*c* argument looks like a single numeric RGB or RGBA sequence, which should be avoided as value-mapping will have precedence in case its length matches with *x* & *y*.  Please use the *color* keyword-argument or provide a 2D array with a single row if you intend to specify the same RGB or RGBA value for all points.\n",
      "*c* argument looks like a single numeric RGB or RGBA sequence, which should be avoided as value-mapping will have precedence in case its length matches with *x* & *y*.  Please use the *color* keyword-argument or provide a 2D array with a single row if you intend to specify the same RGB or RGBA value for all points.\n",
      "*c* argument looks like a single numeric RGB or RGBA sequence, which should be avoided as value-mapping will have precedence in case its length matches with *x* & *y*.  Please use the *color* keyword-argument or provide a 2D array with a single row if you intend to specify the same RGB or RGBA value for all points.\n"
     ]
    },
    {
     "data": {
      "image/png": "[encoded data removed]",
      "text/plain": [
       "<Figure size 432x288 with 1 Axes>"
      ]
     },
     "metadata": {
      "needs_background": "light"
     },
     "output_type": "display_data"
    }
   ],
   "source": [
    "from matplotlib.colors import ListedColormap as LCM \n",
    "X_set, Y_set = X_train, Y_train \n",
    "X_1, X_2 = nmp.meshgrid(nmp.arange(start = X_set[:, 0].min() - 1, \n",
    " stop = X_set[: , 0].max() + 1, step = 0.01), \n",
    " nmp.arange(start = X_set[: , 1].min() - 1, \n",
    " stop = X_set[: , 1].max() + 1, step = 0.01)) \n",
    " \n",
    "mpltl.contourf(X_1, X_2, classifier_1.predict(nmp.array([X_1.ravel(), \n",
    " X_2.ravel()]).T).reshape(X_1.shape), alpha = 0.75, \n",
    " cmap = LCM (('yellow', 'grey', 'green'))) \n",
    " \n",
    "mpltl.xlim (X_1.min(), X_1.max()) \n",
    "mpltl.ylim (X_2.min(), X_2.max()) \n",
    " \n",
    "for s, t in enumerate(nmp.unique(Y_set)): \n",
    " mpltl.scatter(X_set[Y_set == t, 0], X_set[Y_set == t, 1], \n",
    " c = LCM (('red', 'green', 'blue'))(s), label = t) \n",
    " \n",
    "mpltl.title('Logistic Regression for Training set: ') \n",
    "mpltl.xlabel ('PC_1') # for X_label \n",
    "mpltl.ylabel ('PC_2') # for Y_label \n",
    "mpltl.legend() # for showing legend\n",
    "# show scatter plot \n",
    "mpltl.show()"
   ]
  },
  {
   "cell_type": "code",
   "execution_count": 99,
   "id": "2f7587a1",
   "metadata": {},
   "outputs": [
    {
     "name": "stderr",
     "output_type": "stream",
     "text": [
      "*c* argument looks like a single numeric RGB or RGBA sequence, which should be avoided as value-mapping will have precedence in case its length matches with *x* & *y*.  Please use the *color* keyword-argument or provide a 2D array with a single row if you intend to specify the same RGB or RGBA value for all points.\n",
      "*c* argument looks like a single numeric RGB or RGBA sequence, which should be avoided as value-mapping will have precedence in case its length matches with *x* & *y*.  Please use the *color* keyword-argument or provide a 2D array with a single row if you intend to specify the same RGB or RGBA value for all points.\n",
      "*c* argument looks like a single numeric RGB or RGBA sequence, which should be avoided as value-mapping will have precedence in case its length matches with *x* & *y*.  Please use the *color* keyword-argument or provide a 2D array with a single row if you intend to specify the same RGB or RGBA value for all points.\n"
     ]
    },
    {
     "data": {
      "image/png": "[encoded data removed]",
      "text/plain": [
       "<Figure size 432x288 with 1 Axes>"
      ]
     },
     "metadata": {
      "needs_background": "light"
     },
     "output_type": "display_data"
    }
   ],
   "source": [
    "from matplotlib.colors import ListedColormap as LCM \n",
    " \n",
    "X_set, Y_set = X_test, Y_test \n",
    " \n",
    "X_1, X_2 = nmp.meshgrid(nmp.arange(start = X_set[: , 0].min() - 1, \n",
    " stop = X_set[: , 0].max() + 1, step = 0.01), \n",
    " nmp.arange(start = X_set[: , 1].min() - 1, \n",
    " stop = X_set[: , 1].max() + 1, step = 0.01)) \n",
    " \n",
    "mpltl.contourf(X_1, X_2, classifier_1.predict(nmp.array([X_1.ravel(), \n",
    " X_2.ravel()]).T).reshape(X_1.shape), alpha = 0.75, \n",
    " cmap = LCM(('pink', 'grey', 'aquamarine'))) \n",
    " \n",
    "mpltl.xlim(X_1.min(), X_1.max()) \n",
    "mpltl.ylim(X_2.min(), X_2.max()) \n",
    " \n",
    "for s, t in enumerate(nmp.unique(Y_set)): \n",
    " mpltl.scatter(X_set[Y_set == t, 0], X_set[Y_set == t, 1], \n",
    " c = LCM(('red', 'green', 'blue'))(s), label = t) \n",
    " \n",
    "# title for scatter plot \n",
    "mpltl.title('Logistic Regression for Testing set') \n",
    "mpltl.xlabel ('PC_1') # for X_label \n",
    "mpltl.ylabel ('PC_2') # for Y_label \n",
    "mpltl.legend() \n",
    " \n",
    "# show scatter plot \n",
    "mpltl.show() "
   ]
  },
  {
   "cell_type": "code",
   "execution_count": null,
   "id": "0d51ea38",
   "metadata": {},
   "outputs": [],
   "source": []
  }
 ],
 "metadata": {
  "kernelspec": {
   "display_name": "Python 3 (ipykernel)",
   "language": "python",
   "name": "python3"
  },
  "language_info": {
   "codemirror_mode": {
    "name": "ipython",
    "version": 3
   },
   "file_extension": ".py",
   "mimetype": "text/x-python",
   "name": "python",
   "nbconvert_exporter": "python",
   "pygments_lexer": "ipython3",
   "version": "3.9.12"
  }
 },
 "nbformat": 4,
 "nbformat_minor": 5
}
